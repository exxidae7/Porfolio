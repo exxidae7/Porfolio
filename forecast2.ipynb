{
 "cells": [
  {
   "cell_type": "code",
   "execution_count": 41,
   "metadata": {},
   "outputs": [],
   "source": [
    "\n",
    "import numpy as np\n",
    "import pandas as pd\n",
    "# %%\n",
    "import time\n",
    "\n",
    "import warnings\n",
    "warnings.filterwarnings(\"ignore\")\n",
    "df = pd.read_csv(\"a.csv\")\n",
    "import matplotlib.pyplot as plt\n",
    "import seaborn as sns"
   ]
  },
  {
   "cell_type": "markdown",
   "metadata": {},
   "source": [
    "FORECASTING TIMESERIES USING LSTM "
   ]
  },
  {
   "cell_type": "code",
   "execution_count": 42,
   "metadata": {},
   "outputs": [
    {
     "data": {
      "text/html": [
       "<div>\n",
       "<style scoped>\n",
       "    .dataframe tbody tr th:only-of-type {\n",
       "        vertical-align: middle;\n",
       "    }\n",
       "\n",
       "    .dataframe tbody tr th {\n",
       "        vertical-align: top;\n",
       "    }\n",
       "\n",
       "    .dataframe thead th {\n",
       "        text-align: right;\n",
       "    }\n",
       "</style>\n",
       "<table border=\"1\" class=\"dataframe\">\n",
       "  <thead>\n",
       "    <tr style=\"text-align: right;\">\n",
       "      <th></th>\n",
       "      <th>datetime_utc</th>\n",
       "      <th>_tempm</th>\n",
       "    </tr>\n",
       "  </thead>\n",
       "  <tbody>\n",
       "    <tr>\n",
       "      <th>0</th>\n",
       "      <td>6/2/2021 0:10</td>\n",
       "      <td>20.94</td>\n",
       "    </tr>\n",
       "    <tr>\n",
       "      <th>1</th>\n",
       "      <td>6/2/2021 1:11</td>\n",
       "      <td>20.92</td>\n",
       "    </tr>\n",
       "    <tr>\n",
       "      <th>2</th>\n",
       "      <td>6/2/2021 2:10</td>\n",
       "      <td>20.94</td>\n",
       "    </tr>\n",
       "    <tr>\n",
       "      <th>3</th>\n",
       "      <td>6/2/2021 3:11</td>\n",
       "      <td>20.92</td>\n",
       "    </tr>\n",
       "    <tr>\n",
       "      <th>4</th>\n",
       "      <td>6/2/2021 4:10</td>\n",
       "      <td>23.17</td>\n",
       "    </tr>\n",
       "    <tr>\n",
       "      <th>...</th>\n",
       "      <td>...</td>\n",
       "      <td>...</td>\n",
       "    </tr>\n",
       "    <tr>\n",
       "      <th>867</th>\n",
       "      <td>7/8/2021 3:10</td>\n",
       "      <td>22.85</td>\n",
       "    </tr>\n",
       "    <tr>\n",
       "      <th>868</th>\n",
       "      <td>7/8/2021 4:10</td>\n",
       "      <td>23.10</td>\n",
       "    </tr>\n",
       "    <tr>\n",
       "      <th>869</th>\n",
       "      <td>7/8/2021 5:10</td>\n",
       "      <td>23.73</td>\n",
       "    </tr>\n",
       "    <tr>\n",
       "      <th>870</th>\n",
       "      <td>7/8/2021 6:10</td>\n",
       "      <td>23.20</td>\n",
       "    </tr>\n",
       "    <tr>\n",
       "      <th>871</th>\n",
       "      <td>7/8/2021 7:11</td>\n",
       "      <td>23.47</td>\n",
       "    </tr>\n",
       "  </tbody>\n",
       "</table>\n",
       "<p>872 rows × 2 columns</p>\n",
       "</div>"
      ],
      "text/plain": [
       "      datetime_utc   _tempm\n",
       "0    6/2/2021 0:10    20.94\n",
       "1    6/2/2021 1:11    20.92\n",
       "2    6/2/2021 2:10    20.94\n",
       "3    6/2/2021 3:11    20.92\n",
       "4    6/2/2021 4:10    23.17\n",
       "..             ...      ...\n",
       "867  7/8/2021 3:10    22.85\n",
       "868  7/8/2021 4:10    23.10\n",
       "869  7/8/2021 5:10    23.73\n",
       "870  7/8/2021 6:10    23.20\n",
       "871  7/8/2021 7:11    23.47\n",
       "\n",
       "[872 rows x 2 columns]"
      ]
     },
     "execution_count": 42,
     "metadata": {},
     "output_type": "execute_result"
    }
   ],
   "source": [
    "df"
   ]
  },
  {
   "cell_type": "code",
   "execution_count": 43,
   "metadata": {},
   "outputs": [],
   "source": [
    "df['datetime_utc'] = pd.to_datetime(df['datetime_utc'])\n",
    "df = df.set_index('datetime_utc')\n",
    "\n",
    "\n"
   ]
  },
  {
   "cell_type": "code",
   "execution_count": 44,
   "metadata": {},
   "outputs": [
    {
     "data": {
      "text/html": [
       "<div>\n",
       "<style scoped>\n",
       "    .dataframe tbody tr th:only-of-type {\n",
       "        vertical-align: middle;\n",
       "    }\n",
       "\n",
       "    .dataframe tbody tr th {\n",
       "        vertical-align: top;\n",
       "    }\n",
       "\n",
       "    .dataframe thead th {\n",
       "        text-align: right;\n",
       "    }\n",
       "</style>\n",
       "<table border=\"1\" class=\"dataframe\">\n",
       "  <thead>\n",
       "    <tr style=\"text-align: right;\">\n",
       "      <th></th>\n",
       "      <th>_tempm</th>\n",
       "    </tr>\n",
       "    <tr>\n",
       "      <th>datetime_utc</th>\n",
       "      <th></th>\n",
       "    </tr>\n",
       "  </thead>\n",
       "  <tbody>\n",
       "    <tr>\n",
       "      <th>2021-06-02 00:10:00</th>\n",
       "      <td>20.94</td>\n",
       "    </tr>\n",
       "    <tr>\n",
       "      <th>2021-06-02 01:11:00</th>\n",
       "      <td>20.92</td>\n",
       "    </tr>\n",
       "    <tr>\n",
       "      <th>2021-06-02 02:10:00</th>\n",
       "      <td>20.94</td>\n",
       "    </tr>\n",
       "    <tr>\n",
       "      <th>2021-06-02 03:11:00</th>\n",
       "      <td>20.92</td>\n",
       "    </tr>\n",
       "    <tr>\n",
       "      <th>2021-06-02 04:10:00</th>\n",
       "      <td>23.17</td>\n",
       "    </tr>\n",
       "    <tr>\n",
       "      <th>...</th>\n",
       "      <td>...</td>\n",
       "    </tr>\n",
       "    <tr>\n",
       "      <th>2021-07-08 03:10:00</th>\n",
       "      <td>22.85</td>\n",
       "    </tr>\n",
       "    <tr>\n",
       "      <th>2021-07-08 04:10:00</th>\n",
       "      <td>23.10</td>\n",
       "    </tr>\n",
       "    <tr>\n",
       "      <th>2021-07-08 05:10:00</th>\n",
       "      <td>23.73</td>\n",
       "    </tr>\n",
       "    <tr>\n",
       "      <th>2021-07-08 06:10:00</th>\n",
       "      <td>23.20</td>\n",
       "    </tr>\n",
       "    <tr>\n",
       "      <th>2021-07-08 07:11:00</th>\n",
       "      <td>23.47</td>\n",
       "    </tr>\n",
       "  </tbody>\n",
       "</table>\n",
       "<p>872 rows × 1 columns</p>\n",
       "</div>"
      ],
      "text/plain": [
       "                      _tempm\n",
       "datetime_utc                \n",
       "2021-06-02 00:10:00    20.94\n",
       "2021-06-02 01:11:00    20.92\n",
       "2021-06-02 02:10:00    20.94\n",
       "2021-06-02 03:11:00    20.92\n",
       "2021-06-02 04:10:00    23.17\n",
       "...                      ...\n",
       "2021-07-08 03:10:00    22.85\n",
       "2021-07-08 04:10:00    23.10\n",
       "2021-07-08 05:10:00    23.73\n",
       "2021-07-08 06:10:00    23.20\n",
       "2021-07-08 07:11:00    23.47\n",
       "\n",
       "[872 rows x 1 columns]"
      ]
     },
     "execution_count": 44,
     "metadata": {},
     "output_type": "execute_result"
    }
   ],
   "source": [
    "df"
   ]
  },
  {
   "cell_type": "code",
   "execution_count": 45,
   "metadata": {},
   "outputs": [
    {
     "data": {
      "text/plain": [
       "(872, 1)"
      ]
     },
     "execution_count": 45,
     "metadata": {},
     "output_type": "execute_result"
    }
   ],
   "source": [
    "df.shape"
   ]
  },
  {
   "cell_type": "code",
   "execution_count": 46,
   "metadata": {},
   "outputs": [],
   "source": [
    "from sklearn.preprocessing import MinMaxScaler\n",
    "scaler = MinMaxScaler(feature_range=(0,1))"
   ]
  },
  {
   "cell_type": "code",
   "execution_count": 47,
   "metadata": {},
   "outputs": [],
   "source": [
    "df1 = scaler.fit_transform(df)\n"
   ]
  },
  {
   "cell_type": "code",
   "execution_count": null,
   "metadata": {},
   "outputs": [],
   "source": []
  },
  {
   "cell_type": "code",
   "execution_count": 48,
   "metadata": {},
   "outputs": [],
   "source": [
    "step = 24\n",
    "x = []\n",
    "y = []\n",
    "for i in range( 0 ,df1.shape[0]-step):\n",
    "    x.append(df1[i:i+step ])\n",
    "    y.append(df1[i+step ])"
   ]
  },
  {
   "cell_type": "code",
   "execution_count": 49,
   "metadata": {},
   "outputs": [],
   "source": [
    "x , y = np.asarray(x) , np.asarray(y)\n",
    "y = np.reshape(y , (len(y) , 1))"
   ]
  },
  {
   "cell_type": "code",
   "execution_count": 50,
   "metadata": {},
   "outputs": [
    {
     "data": {
      "text/plain": [
       "(848, 1)"
      ]
     },
     "execution_count": 50,
     "metadata": {},
     "output_type": "execute_result"
    }
   ],
   "source": [
    "#pd.DataFrame(x).to_csv('append.csv')\n",
    "#pd.DataFrame(y).to_csv('append1.csv')\n",
    "y.shape"
   ]
  },
  {
   "cell_type": "code",
   "execution_count": null,
   "metadata": {},
   "outputs": [],
   "source": [
    "\n"
   ]
  },
  {
   "cell_type": "code",
   "execution_count": 51,
   "metadata": {},
   "outputs": [
    {
     "data": {
      "text/plain": [
       "(24, 1)"
      ]
     },
     "execution_count": 51,
     "metadata": {},
     "output_type": "execute_result"
    }
   ],
   "source": [
    "x_train , x_test = x[:-24] ,x[-24:]\n",
    "y_train , y_test= y[:-24] ,y[-24:]\n",
    "\n",
    "\n",
    "y_test.shape"
   ]
  },
  {
   "cell_type": "code",
   "execution_count": 52,
   "metadata": {},
   "outputs": [
    {
     "data": {
      "text/plain": [
       "(24, 24, 1)"
      ]
     },
     "execution_count": 52,
     "metadata": {},
     "output_type": "execute_result"
    }
   ],
   "source": [
    "x_train = np.reshape(x_train ,  (x_train.shape[0]  , x_train.shape[1]  , 1))\n",
    "x_test.shape"
   ]
  },
  {
   "cell_type": "code",
   "execution_count": 53,
   "metadata": {},
   "outputs": [],
   "source": [
    "from keras.models import Sequential\n",
    "from keras.layers  import  Dense , Activation , LSTM\n",
    "from keras import optimizers\n",
    "from keras.callbacks import EarlyStopping\n",
    "import tensorflow as tf\n",
    "from tensorflow.keras.layers import Dense,RepeatVector, LSTM, Dropout\n",
    "from tensorflow.keras.layers import Flatten, Conv1D, MaxPooling1D\n",
    "from tensorflow.keras.layers import Bidirectional, Dropout\n",
    "from tensorflow.keras.models import Sequential\n",
    "from keras.callbacks import EarlyStopping"
   ]
  },
  {
   "cell_type": "code",
   "execution_count": 54,
   "metadata": {},
   "outputs": [
    {
     "name": "stdout",
     "output_type": "stream",
     "text": [
      "Epoch 1/200\n",
      "83/83 [==============================] - 11s 66ms/step - loss: 0.0561\n",
      "Epoch 2/200\n",
      "83/83 [==============================] - 5s 66ms/step - loss: 0.0124: 0s - \n",
      "Epoch 3/200\n",
      "83/83 [==============================] - 6s 70ms/step - loss: 0.0083\n",
      "Epoch 4/200\n",
      "83/83 [==============================] - 5s 64ms/step - loss: 0.0070\n",
      "Epoch 5/200\n",
      "83/83 [==============================] - 5s 65ms/step - loss: 0.0057: 0s - loss:\n",
      "Epoch 6/200\n",
      "83/83 [==============================] - 5s 65ms/step - loss: 0.0059\n",
      "Epoch 7/200\n",
      "83/83 [==============================] - 5s 63ms/step - loss: 0.0062\n",
      "Epoch 8/200\n",
      "83/83 [==============================] - 5s 64ms/step - loss: 0.0054\n",
      "Epoch 9/200\n",
      "83/83 [==============================] - 5s 63ms/step - loss: 0.0047\n",
      "Epoch 10/200\n",
      "83/83 [==============================] - 5s 63ms/step - loss: 0.0060\n",
      "Epoch 11/200\n",
      "83/83 [==============================] - 5s 64ms/step - loss: 0.0048\n",
      "Epoch 12/200\n",
      "83/83 [==============================] - 5s 63ms/step - loss: 0.0048\n",
      "Epoch 13/200\n",
      "83/83 [==============================] - 5s 64ms/step - loss: 0.0048\n",
      "Epoch 14/200\n",
      "83/83 [==============================] - 5s 64ms/step - loss: 0.0048\n"
     ]
    },
    {
     "data": {
      "text/plain": [
       "<tensorflow.python.keras.callbacks.History at 0x2753a450d00>"
      ]
     },
     "execution_count": 54,
     "metadata": {},
     "output_type": "execute_result"
    }
   ],
   "source": [
    "callbacks = EarlyStopping(monitor = \"loss\", mode = \"min\", patience = 5, restore_best_weights = True)\n",
    "model = Sequential()\n",
    "model.add(Conv1D(filters=256, kernel_size=2, activation='relu', input_shape=(24,1)))\n",
    "model.add(Conv1D(filters=128, kernel_size=2, activation='relu'))\n",
    "model.add(MaxPooling1D(pool_size=2))\n",
    "model.add(Flatten())\n",
    "model.add(RepeatVector(24))\n",
    "model.add(LSTM(units=100, return_sequences=True, activation='relu'))\n",
    "model.add(Dropout(0.2))\n",
    "model.add(LSTM(units=100, return_sequences=True, activation='relu'))\n",
    "model.add(Dropout(0.2))\n",
    "model.add(LSTM(units=100, return_sequences=True, activation='relu'))\n",
    "model.add(LSTM(units=100, return_sequences=True, activation='relu'))\n",
    "model.add(Bidirectional(LSTM(128, activation='relu')))\n",
    "model.add(Dense(100, activation='relu'))\n",
    "model.add(Dense(1))\n",
    "model.compile(loss='mse', optimizer='adam')\n",
    "model.fit(x_train , y_train ,epochs=200 , callbacks = callbacks , batch_size=10)\n"
   ]
  },
  {
   "cell_type": "code",
   "execution_count": 55,
   "metadata": {},
   "outputs": [
    {
     "data": {
      "text/plain": [
       "[<matplotlib.lines.Line2D at 0x2753f715af0>]"
      ]
     },
     "execution_count": 55,
     "metadata": {},
     "output_type": "execute_result"
    },
    {
     "data": {
      "image/png": "[encoded data removed]",
      "text/plain": [
       "<Figure size 432x288 with 1 Axes>"
      ]
     },
     "metadata": {
      "needs_background": "light"
     },
     "output_type": "display_data"
    }
   ],
   "source": [
    "\n",
    "loss_per_epoch = model.history.history['loss']\n",
    "plt.plot(range(len(loss_per_epoch)),loss_per_epoch)"
   ]
  },
  {
   "cell_type": "code",
   "execution_count": 56,
   "metadata": {},
   "outputs": [],
   "source": [
    "\n",
    "model.save('forecast2.hdf5')"
   ]
  },
  {
   "cell_type": "code",
   "execution_count": 57,
   "metadata": {},
   "outputs": [
    {
     "name": "stdout",
     "output_type": "stream",
     "text": [
      "[array([[23.92]]), array([23.5219], dtype=float32)]\n",
      "[array([[23.28]]), array([23.610731], dtype=float32)]\n",
      "[array([[22.91]]), array([23.58566], dtype=float32)]\n",
      "[array([[22.9]]), array([23.335804], dtype=float32)]\n",
      "[array([[23.01]]), array([23.117998], dtype=float32)]\n",
      "[array([[22.61]]), array([22.964867], dtype=float32)]\n",
      "[array([[22.58]]), array([22.872366], dtype=float32)]\n",
      "[array([[22.54]]), array([22.784447], dtype=float32)]\n",
      "[array([[22.35]]), array([22.719498], dtype=float32)]\n",
      "[array([[22.62]]), array([22.689522], dtype=float32)]\n",
      "[array([[22.57]]), array([22.675056], dtype=float32)]\n",
      "[array([[22.53]]), array([22.65015], dtype=float32)]\n",
      "[array([[22.29]]), array([22.635227], dtype=float32)]\n",
      "[array([[22.41]]), array([22.647926], dtype=float32)]\n",
      "[array([[22.24]]), array([22.652374], dtype=float32)]\n",
      "[array([[22.3]]), array([22.686634], dtype=float32)]\n",
      "[array([[22.45]]), array([22.687191], dtype=float32)]\n",
      "[array([[22.41]]), array([22.75467], dtype=float32)]\n",
      "[array([[22.29]]), array([22.772493], dtype=float32)]\n",
      "[array([[22.85]]), array([22.839582], dtype=float32)]\n",
      "[array([[23.1]]), array([23.00092], dtype=float32)]\n",
      "[array([[23.73]]), array([23.138773], dtype=float32)]\n",
      "[array([[23.2]]), array([23.40893], dtype=float32)]\n",
      "[array([[23.47]]), array([23.32721], dtype=float32)]\n"
     ]
    }
   ],
   "source": [
    "for i in range(0 , x_test.shape[0]):\n",
    "    temp = []\n",
    "    x_input = x_test[i,: ,:]\n",
    "    x_input = np.reshape(x_input , (1,x_input.shape[0] ,1))\n",
    "    x_input = model.predict(x_input)\n",
    "    forecast = scaler.inverse_transform(x_input)\n",
    "    \n",
    "    y_input = y_test[i,:]\n",
    "    y_input = np.reshape(y_input , (1,1))\n",
    "    actual = scaler.inverse_transform(y_input)\n",
    "    temp.append(actual)\n",
    "    temp.extend(forecast)\n",
    "    df_animate = pd.DataFrame(temp)\n",
    "    df_animate = df_animate.T\n",
    "    df_animate.to_csv('real time temp.csv' , mode = 'a' ,header= False  , index= False)\n",
    "    print(temp)\n",
    "    time.sleep(0.001)\n",
    "    \n",
    "    "
   ]
  },
  {
   "cell_type": "code",
   "execution_count": 58,
   "metadata": {},
   "outputs": [],
   "source": [
    "df1 = pd.read_csv('real time temp.csv' , header=None)\n",
    "df1.columns = ['actual' , 'forecast']\n",
    "a = np.array(df1['actual'].values.reshape(-1 , 1).tolist())\n",
    "b =np.array(df1['forecast'].values.reshape(-1 , 1).tolist())\n",
    " "
   ]
  },
  {
   "cell_type": "code",
   "execution_count": 59,
   "metadata": {},
   "outputs": [
    {
     "data": {
      "image/png": "[encoded data removed]",
      "text/plain": [
       "<Figure size 1440x648 with 1 Axes>"
      ]
     },
     "metadata": {
      "needs_background": "light"
     },
     "output_type": "display_data"
    }
   ],
   "source": [
    "plt.figure(figsize=(20,9))\n",
    "plt.plot(a , 'blue', linewidth=5)\n",
    "plt.plot(b,'r' , linewidth=4)\n",
    "plt.legend(('Test','Predicted'))\n",
    "plt.show()"
   ]
  },
  {
   "cell_type": "code",
   "execution_count": null,
   "metadata": {},
   "outputs": [],
   "source": []
  }
 ],
 "metadata": {
  "interpreter": {
   "hash": "2647ea34e536f865ab67ff9ddee7fd78773d956cec0cab53c79b32cd10da5d83"
  },
  "kernelspec": {
   "display_name": "Python 3.9.5 64-bit",
   "language": "python",
   "name": "python3"
  },
  "language_info": {
   "codemirror_mode": {
    "name": "ipython",
    "version": 3
   },
   "file_extension": ".py",
   "mimetype": "text/x-python",
   "name": "python",
   "nbconvert_exporter": "python",
   "pygments_lexer": "ipython3",
   "version": "3.8.8"
  },
  "orig_nbformat": 4
 },
 "nbformat": 4,
 "nbformat_minor": 2
}
